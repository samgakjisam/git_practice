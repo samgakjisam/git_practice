{
 "cells": [
  {
   "cell_type": "markdown",
   "metadata": {},
   "source": [
    "# 최초 설정\n",
    "\n",
    "git --version\n",
    "\n",
    "git config --global user.name \"samgakjisam\"\n",
    "\n",
    "git config --global user.email \"suheon324@gmail.com\"\n",
    "\n",
    "git config --global user.name\n",
    "\n",
    "git config --global user.email\n",
    "\n",
    "git config --global init.defaultBranch master -> master로 Default Branch name 설정"
   ]
  },
  {
   "cell_type": "markdown",
   "metadata": {},
   "source": [
    "# Git 시작하기\n",
    "\n",
    "git init (로컬의 해당 폴더에서 .git/ 폴더 생성 확인)\n",
    "\n",
    "git status (git 폴더가 스테이징에 있는지 관리 상태 확인)\n",
    "\n",
    "# Git의 관리에서 특정 파일/폴더를 배제해야 할 경우\n",
    "1. 포함할 필요가 없을 때\n",
    "- 자동으로 생성 또는 다운로드되는 파일들 (빌드 결과물, 라이브러리)\n",
    "2. 포함하지 말아야할 때\n",
    "- 보안상 민감한 정보를 담은 파일\n",
    "\n",
    "-> .gitignore 파일을 생성한 후 내용을 적어 배제할 요소들을 지정할 수 있다."
   ]
  },
  {
   "cell_type": "code",
   "execution_count": null,
   "metadata": {
    "vscode": {
     "languageId": "plaintext"
    }
   },
   "outputs": [],
   "source": [
    "# 이렇게 #를 사용해서 주석\n",
    "\n",
    "# 모든 file.c\n",
    "file.c\n",
    "\n",
    "# 최상위 폴더의 file.c\n",
    "/file.c\n",
    "\n",
    "# 모든 .c 확장자 파일\n",
    "*.c\n",
    "\n",
    "# .c 확장자지만 무시하지 않을 파일\n",
    "!not_ignore_this.c\n",
    "\n",
    "# logs란 이름의 파일 또는 폴더와 그 내용들\n",
    "logs\n",
    "\n",
    "# logs란 이름의 폴더와 그 내용들\n",
    "logs/\n",
    "\n",
    "# logs 폴더 바로 안의 debug.log와 .c 파일들\n",
    "logs/debug.log\n",
    "logs/*.c\n",
    "\n",
    "# logs 폴더 바로 안, 또는 그 안의 다른 폴더(들) 안의 debug.log\n",
    "logs/**/debug.log"
   ]
  },
  {
   "cell_type": "markdown",
   "metadata": {},
   "source": [
    "# git commit\n",
    "\n",
    "git add .\n",
    "\n",
    "git commit -m \"\" -> 메세지와 함께 커밋\n",
    "\n",
    "git commit -am \"\" -> add와 메세지 커밋을 한 번에 (새로 추가된 untracked 파일이 없을 때 ! 웬만하면 쓰지말자)"
   ]
  },
  {
   "cell_type": "markdown",
   "metadata": {},
   "source": [
    "# 과거로 돌아가기\n",
    "\n",
    "reset -> 원하는 시점으로 돌아간 뒤 이후 내역들을 지운다.\n",
    "\n",
    "revert -> 되돌리기 원하는 시점의 커밋을 거꾸로 실행한다.\n",
    "\n",
    "git reset --hard (돌아갈 커밋 해시)\n",
    "ex)\n",
    "\n",
    "git reset --hard 90cd12880f358b710b13699a8d390da20aaaa1f71\n",
    "\n",
    "\"이것은 다음에 연습해보도록 하자\"\n",
    "https://www.yalco.kr/@git-github/2-3/\n"
   ]
  },
  {
   "cell_type": "markdown",
   "metadata": {},
   "source": [
    "# 여러 Branch\n",
    "\n",
    "- 프로젝트를 하나 이상의 모습으로 관리해야 할 때\n",
    "    - 실배포용, 테스트서버용, 새로운 시도용\n",
    "- 여러 작업들이 각각 독립되어 진행될 때\n",
    "    - 신기능1, 신기능2, 코드개선, 긴급수정 -> 각각의 차원에서 작업한 뒤 확정된 것을 메인 차원에 통합\n",
    "\" ㅇㅇㅇ"
   ]
  }
 ],
 "metadata": {
  "language_info": {
   "name": "python"
  },
  "orig_nbformat": 4
 },
 "nbformat": 4,
 "nbformat_minor": 2
}
