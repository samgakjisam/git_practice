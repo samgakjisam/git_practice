{
 "cells": [
  {
   "cell_type": "markdown",
   "metadata": {},
   "source": [
    "# 최초 설정\n",
    "\n",
    "git --version\n",
    "\n",
    "git config --global user.name \"samgakjisam\"\n",
    "\n",
    "git config --global user.email \"suheon324@gmail.com\"\n",
    "\n",
    "git config --global user.name\n",
    "\n",
    "git config --global user.email\n",
    "\n",
    "git config --global init.defaultBranch master -> master로 Default Branch name 설정"
   ]
  },
  {
   "cell_type": "markdown",
   "metadata": {},
   "source": [
    "# Git 시작하기\n",
    "\n",
    "git init (로컬의 해당 폴더에서 .git/ 폴더 생성 확인)\n",
    "\n",
    "git status (git 폴더가 스테이징에 있는지 관리 상태 확인)\n",
    "\n",
    "# Git의 관리에서 특정 파일/폴더를 배제해야 할 경우\n",
    "1. 포함할 필요가 없을 때\n",
    "- 자동으로 생성 또는 다운로드되는 파일들 (빌드 결과물, 라이브러리)\n",
    "2. 포함하지 말아야할 때\n",
    "- 보안상 민감한 정보를 담은 파일\n",
    "\n",
    "-> .gitignore 파일을 생성한 후 내용을 적어 배제할 요소들을 지정할 수 있다."
   ]
  },
  {
   "cell_type": "code",
   "execution_count": null,
   "metadata": {
    "vscode": {
     "languageId": "plaintext"
    }
   },
   "outputs": [],
   "source": [
    "# 이렇게 #를 사용해서 주석\n",
    "\n",
    "# 모든 file.c\n",
    "file.c\n",
    "\n",
    "# 최상위 폴더의 file.c\n",
    "/file.c\n",
    "\n",
    "# 모든 .c 확장자 파일\n",
    "*.c\n",
    "\n",
    "# .c 확장자지만 무시하지 않을 파일\n",
    "!not_ignore_this.c\n",
    "\n",
    "# logs란 이름의 파일 또는 폴더와 그 내용들\n",
    "logs\n",
    "\n",
    "# logs란 이름의 폴더와 그 내용들\n",
    "logs/\n",
    "\n",
    "# logs 폴더 바로 안의 debug.log와 .c 파일들\n",
    "logs/debug.log\n",
    "logs/*.c\n",
    "\n",
    "# logs 폴더 바로 안, 또는 그 안의 다른 폴더(들) 안의 debug.log\n",
    "logs/**/debug.log"
   ]
  }
 ],
 "metadata": {
  "language_info": {
   "name": "python"
  },
  "orig_nbformat": 4
 },
 "nbformat": 4,
 "nbformat_minor": 2
}
